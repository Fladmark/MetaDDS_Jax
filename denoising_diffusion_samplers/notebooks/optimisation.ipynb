{
 "cells": [
  {
   "cell_type": "code",
   "execution_count": 1,
   "metadata": {
    "ExecuteTime": {
     "start_time": "2023-04-27T06:11:44.219578Z",
     "end_time": "2023-04-27T06:11:56.134304Z"
    }
   },
   "outputs": [
    {
     "name": "stdout",
     "output_type": "stream",
     "text": [
      "0.48792922\n",
      "0.25940853\n",
      "0.25881654\n",
      "0.2139334\n",
      "0.20026523\n",
      "0.19956794\n",
      "0.19956794\n"
     ]
    }
   ],
   "source": [
    "from dds.configs.config import set_task, get_config\n",
    "from dds.train_dds import train_dds\n",
    "\n",
    "import numpy as onp"
   ]
  },
  {
   "cell_type": "code",
   "execution_count": 2,
   "metadata": {
    "ExecuteTime": {
     "start_time": "2023-04-27T06:11:56.139620Z",
     "end_time": "2023-04-27T06:11:56.166465Z"
    }
   },
   "outputs": [],
   "source": [
    "funnel_config = get_config()\n",
    "\n",
    "# Time and step settings (Need to be done before calling set_task)\n",
    "funnel_config.model.tfinal = 6.4\n",
    "funnel_config.model.dt = 0.05 #0.05\n",
    "\n",
    "if funnel_config.model.reference_process_key == \"oudstl\":\n",
    "    funnel_config.model.step_scheme_key = \"cos_sq\"\n",
    "\n",
    "from dds.targets.toy_targets import get_attr\n",
    "### SET TASK\n",
    "task = \"xor\"\n",
    "div, e, other_dim = get_attr()\n",
    "div = str(div).replace(\".\", \"\")\n",
    "e = str(e).replace(\".\", \"\")\n",
    "\n",
    "save_name = f\"{task}_s{div}_plus{e}_od{other_dim}\"\n",
    "\n",
    "\n",
    "funnel_config = set_task(funnel_config, task)\n",
    "funnel_config.model.reference_process_key = \"oudstl\"\n",
    "\n",
    "# funnel_config.model.reference_process_key = \"pisstl\"\n",
    "# funnel_config.model.step_scheme_key = \"uniform\"\n",
    "\n",
    "# exp_dec\n",
    "# cos_sq\n",
    "# uniform\n",
    "# last_small\n",
    "# linear_dds\n",
    "# linear\n",
    "# uniform_dds\n",
    "\n",
    "if funnel_config.model.reference_process_key == \"oudstl\":\n",
    "    funnel_config.model.step_scheme_key = \"cos_sq\"\n",
    "    \n",
    "    # Opt setting for funnel\n",
    "    funnel_config.model.sigma = 1.075\n",
    "    funnel_config.model.alpha = 0.6875\n",
    "    funnel_config.model.m = 1.0\n",
    "        \n",
    "    # Path opt settings    \n",
    "    funnel_config.model.exp_dds = False\n",
    "\n",
    "\n",
    "# funnel_config.model.stl = False\n",
    "# funnel_config.model.detach_stl_drift = False\n",
    "\n",
    "funnel_config.model.stl = True\n",
    "funnel_config.model.detach_stl_drift = True\n",
    "\n",
    "funnel_config.trainer.notebook = True\n",
    "funnel_config.trainer.epochs = 11000\n",
    "# Opt settings we use\n",
    "# funnel_config.trainer.learning_rate = 0.0001\n",
    "funnel_config.trainer.learning_rate = 5 * 10**(-3)\n",
    "funnel_config.trainer.lr_sch_base_dec = 0.95 # For funnel"
   ]
  },
  {
   "cell_type": "code",
   "execution_count": 3,
   "metadata": {
    "ExecuteTime": {
     "start_time": "2023-04-27T06:11:56.160153Z",
     "end_time": "2023-04-27T06:11:56.166756Z"
    }
   },
   "outputs": [
    {
     "data": {
      "text/plain": "'oudstl'"
     },
     "execution_count": 3,
     "metadata": {},
     "output_type": "execute_result"
    }
   ],
   "source": [
    "funnel_config.model.reference_process_key "
   ]
  },
  {
   "cell_type": "code",
   "execution_count": 4,
   "metadata": {
    "ExecuteTime": {
     "start_time": "2023-04-27T06:11:56.164317Z",
     "end_time": "2023-04-27T06:11:56.168637Z"
    }
   },
   "outputs": [],
   "source": [
    "input_dim = funnel_config.model.input_dim"
   ]
  },
  {
   "cell_type": "code",
   "execution_count": 5,
   "metadata": {
    "ExecuteTime": {
     "start_time": "2023-04-27T06:11:56.169043Z",
     "end_time": "2023-04-27T06:11:56.172058Z"
    }
   },
   "outputs": [
    {
     "data": {
      "text/plain": "'cos_sq'"
     },
     "execution_count": 5,
     "metadata": {},
     "output_type": "execute_result"
    }
   ],
   "source": [
    "funnel_config.model.step_scheme_key"
   ]
  },
  {
   "cell_type": "code",
   "execution_count": 6,
   "metadata": {
    "ExecuteTime": {
     "start_time": "2023-04-27T06:11:56.172758Z",
     "end_time": "2023-04-27T06:11:56.175151Z"
    }
   },
   "outputs": [
    {
     "data": {
      "text/plain": "(128,)"
     },
     "execution_count": 6,
     "metadata": {},
     "output_type": "execute_result"
    }
   ],
   "source": [
    "funnel_config.model.ts.shape"
   ]
  },
  {
   "cell_type": "code",
   "execution_count": 7,
   "metadata": {
    "ExecuteTime": {
     "start_time": "2023-04-27T02:08:34.196037Z",
     "end_time": "2023-04-27T02:16:11.804077Z"
    }
   },
   "outputs": [
    {
     "name": "stdout",
     "output_type": "stream",
     "text": [
      "Best training loss0.20633116364479065\n"
     ]
    },
    {
     "data": {
      "text/plain": "<Figure size 640x480 with 1 Axes>",
      "image/png": "[encoded data removed]"
     },
     "metadata": {},
     "output_type": "display_data"
    },
    {
     "name": "stdout",
     "output_type": "stream",
     "text": [
      "('epoch: %s %s  loss: %s', 0, 'TRAIN', -9.218863487243652)\n",
      "('epoch: %s %s  loss: %s', 1, 'TRAIN', -9.327227592468262)\n",
      "('epoch: %s %s  loss: %s', 2, 'TRAIN', -9.393830299377441)\n",
      "('epoch: %s %s  loss: %s', 3, 'TRAIN', -9.49670124053955)\n",
      "('epoch: %s %s  loss: %s', 4, 'TRAIN', -9.555158615112305)\n",
      "('epoch: %s %s  loss: %s', 5, 'TRAIN', -9.89687728881836)\n",
      "('epoch: %s %s  loss: %s', 6, 'TRAIN', -10.173816680908203)\n",
      "('epoch: %s %s  loss: %s', 7, 'TRAIN', -10.61364459991455)\n",
      "('epoch: %s %s  loss: %s', 8, 'TRAIN', -11.35075855255127)\n",
      "('epoch: %s %s  loss: %s', 9, 'TRAIN', -11.824616432189941)\n"
     ]
    },
    {
     "ename": "TypeError",
     "evalue": "Cannot interpret 'Array([[2.0088654],\n       [1.2037265]], dtype=float32)' as a data type",
     "output_type": "error",
     "traceback": [
      "\u001B[0;31m---------------------------------------------------------------------------\u001B[0m",
      "\u001B[0;31mTypeError\u001B[0m                                 Traceback (most recent call last)",
      "Cell \u001B[0;32mIn[7], line 2\u001B[0m\n\u001B[1;32m      1\u001B[0m funnel_config\u001B[38;5;241m.\u001B[39mtrainer\u001B[38;5;241m.\u001B[39mepochs \u001B[38;5;241m=\u001B[39m \u001B[38;5;241m200\u001B[39m\n\u001B[0;32m----> 2\u001B[0m out_dict \u001B[38;5;241m=\u001B[39m \u001B[43mtrain_dds\u001B[49m\u001B[43m(\u001B[49m\u001B[43mfunnel_config\u001B[49m\u001B[43m)\u001B[49m\n",
      "File \u001B[0;32m~/Desktop/Masters/MetaDDS_Jax/denoising_diffusion_samplers/dds/train_dds.py:439\u001B[0m, in \u001B[0;36mtrain_dds\u001B[0;34m(config)\u001B[0m\n\u001B[1;32m    435\u001B[0m (augmented_trajectory, _), _ \u001B[38;5;241m=\u001B[39m forward_fn_wrap(params, model_state, jax\u001B[38;5;241m.\u001B[39mrandom\u001B[38;5;241m.\u001B[39mPRNGKey(\u001B[38;5;241m1\u001B[39m), \u001B[38;5;241m5000\u001B[39m)\n\u001B[1;32m    437\u001B[0m \u001B[38;5;66;03m# This code needs to be augmented for other training targets.\u001B[39;00m\n\u001B[0;32m--> 439\u001B[0m b, w \u001B[38;5;241m=\u001B[39m \u001B[43mget_smallest_loss\u001B[49m\u001B[43m(\u001B[49m\u001B[43maugmented_trajectory\u001B[49m\u001B[43m,\u001B[49m\u001B[43m \u001B[49m\u001B[43mconfig\u001B[49m\u001B[43m)\u001B[49m\n\u001B[1;32m    440\u001B[0m \u001B[38;5;28mprint\u001B[39m(\u001B[38;5;124mf\u001B[39m\u001B[38;5;124m\"\u001B[39m\u001B[38;5;124mBest training loss: \u001B[39m\u001B[38;5;132;01m{\u001B[39;00mb\u001B[38;5;132;01m}\u001B[39;00m\u001B[38;5;124m\"\u001B[39m)\n\u001B[1;32m    441\u001B[0m accumulated_training_loss\u001B[38;5;241m.\u001B[39mappend(b)\n",
      "File \u001B[0;32m~/Desktop/Masters/MetaDDS_Jax/denoising_diffusion_samplers/utility_func.py:45\u001B[0m, in \u001B[0;36mget_smallest_loss\u001B[0;34m(augmented_trajectory, config)\u001B[0m\n\u001B[1;32m     43\u001B[0m w \u001B[38;5;241m=\u001B[39m \u001B[38;5;28;01mNone\u001B[39;00m\n\u001B[1;32m     44\u001B[0m \u001B[38;5;28;01mfor\u001B[39;00m weights \u001B[38;5;129;01min\u001B[39;00m data_x:\n\u001B[0;32m---> 45\u001B[0m     l \u001B[38;5;241m=\u001B[39m \u001B[43mconfig\u001B[49m\u001B[38;5;241;43m.\u001B[39;49m\u001B[43mmodel\u001B[49m\u001B[38;5;241;43m.\u001B[39;49m\u001B[43mtarget_class\u001B[49m\u001B[38;5;241;43m.\u001B[39;49m\u001B[43mf\u001B[49m\u001B[43m(\u001B[49m\u001B[43mweights\u001B[49m\u001B[43m)\u001B[49m\n\u001B[1;32m     46\u001B[0m     \u001B[38;5;28;01mif\u001B[39;00m l \u001B[38;5;241m<\u001B[39m b:\n\u001B[1;32m     47\u001B[0m         b \u001B[38;5;241m=\u001B[39m l\n",
      "File \u001B[0;32m~/Desktop/Masters/MetaDDS_Jax/denoising_diffusion_samplers/dds/targets/toy_targets.py:207\u001B[0m, in \u001B[0;36mxor_target_class.f\u001B[0;34m(self, v)\u001B[0m\n\u001B[1;32m    206\u001B[0m \u001B[38;5;28;01mdef\u001B[39;00m \u001B[38;5;21mf\u001B[39m(\u001B[38;5;28mself\u001B[39m, v):\n\u001B[0;32m--> 207\u001B[0m   \u001B[38;5;28;01mreturn\u001B[39;00m \u001B[38;5;28;43mself\u001B[39;49m\u001B[38;5;241;43m.\u001B[39;49m\u001B[43mxor_task\u001B[49m\u001B[38;5;241;43m.\u001B[39;49m\u001B[43mget_loss\u001B[49m\u001B[43m(\u001B[49m\u001B[43mv\u001B[49m\u001B[43m)\u001B[49m\n",
      "File \u001B[0;32m~/Desktop/Masters/MetaDDS_Jax/denoising_diffusion_samplers/experimental/xor_t.py:47\u001B[0m, in \u001B[0;36mxor_task.get_loss\u001B[0;34m(self, parameters)\u001B[0m\n\u001B[1;32m     39\u001B[0m \u001B[38;5;28;01mdef\u001B[39;00m \u001B[38;5;21mget_loss\u001B[39m(\u001B[38;5;28mself\u001B[39m, parameters):\n\u001B[1;32m     40\u001B[0m     a, b, c, d, e, f \u001B[38;5;241m=\u001B[39m parameters\n\u001B[1;32m     41\u001B[0m     new_params \u001B[38;5;241m=\u001B[39m {\n\u001B[1;32m     42\u001B[0m         \u001B[38;5;124m'\u001B[39m\u001B[38;5;124mlinear\u001B[39m\u001B[38;5;124m'\u001B[39m: {\n\u001B[1;32m     43\u001B[0m             \u001B[38;5;124m'\u001B[39m\u001B[38;5;124mw\u001B[39m\u001B[38;5;124m'\u001B[39m: jnp\u001B[38;5;241m.\u001B[39marray([[a, b], [c, d]]),\n\u001B[1;32m     44\u001B[0m             \u001B[38;5;124m'\u001B[39m\u001B[38;5;124mb\u001B[39m\u001B[38;5;124m'\u001B[39m: jnp\u001B[38;5;241m.\u001B[39marray([\u001B[38;5;241m0\u001B[39m, \u001B[38;5;241m0\u001B[39m]),\n\u001B[1;32m     45\u001B[0m         },\n\u001B[1;32m     46\u001B[0m         \u001B[38;5;124m'\u001B[39m\u001B[38;5;124mlinear_1\u001B[39m\u001B[38;5;124m'\u001B[39m: {\n\u001B[0;32m---> 47\u001B[0m             \u001B[38;5;124m'\u001B[39m\u001B[38;5;124mw\u001B[39m\u001B[38;5;124m'\u001B[39m: \u001B[43mjnp\u001B[49m\u001B[38;5;241;43m.\u001B[39;49m\u001B[43marray\u001B[49m\u001B[43m(\u001B[49m\u001B[43m[\u001B[49m\u001B[43m[\u001B[49m\u001B[43me\u001B[49m\u001B[43m]\u001B[49m\u001B[43m,\u001B[49m\u001B[43m \u001B[49m\u001B[43m[\u001B[49m\u001B[43mf\u001B[49m\u001B[43m]\u001B[49m\u001B[43m]\u001B[49m\u001B[43m)\u001B[49m,\n\u001B[1;32m     48\u001B[0m             \u001B[38;5;124m'\u001B[39m\u001B[38;5;124mb\u001B[39m\u001B[38;5;124m'\u001B[39m: jnp\u001B[38;5;241m.\u001B[39marray([\u001B[38;5;241m0\u001B[39m]),\n\u001B[1;32m     49\u001B[0m         },\n\u001B[1;32m     50\u001B[0m     }\n\u001B[1;32m     51\u001B[0m     \u001B[38;5;28;01mfor\u001B[39;00m param \u001B[38;5;129;01min\u001B[39;00m \u001B[38;5;28mself\u001B[39m\u001B[38;5;241m.\u001B[39mparams:\n\u001B[1;32m     52\u001B[0m         \u001B[38;5;28mself\u001B[39m\u001B[38;5;241m.\u001B[39mparams[param] \u001B[38;5;241m=\u001B[39m new_params[param]\n",
      "File \u001B[0;32m/opt/homebrew/Caskroom/miniforge/base/envs/Py310/lib/python3.10/site-packages/jax/_src/numpy/lax_numpy.py:2067\u001B[0m, in \u001B[0;36marray\u001B[0;34m(object, dtype, copy, order, ndmin)\u001B[0m\n\u001B[1;32m   2063\u001B[0m     \u001B[38;5;28;01mreturn\u001B[39;00m array(np\u001B[38;5;241m.\u001B[39masarray(view), dtype, copy, ndmin\u001B[38;5;241m=\u001B[39mndmin)\n\u001B[1;32m   2065\u001B[0m   \u001B[38;5;28;01mraise\u001B[39;00m \u001B[38;5;167;01mTypeError\u001B[39;00m(\u001B[38;5;124mf\u001B[39m\u001B[38;5;124m\"\u001B[39m\u001B[38;5;124mUnexpected input type for array: \u001B[39m\u001B[38;5;132;01m{\u001B[39;00m\u001B[38;5;28mtype\u001B[39m(\u001B[38;5;28mobject\u001B[39m)\u001B[38;5;132;01m}\u001B[39;00m\u001B[38;5;124m\"\u001B[39m)\n\u001B[0;32m-> 2067\u001B[0m out_array: Array \u001B[38;5;241m=\u001B[39m \u001B[43mlax_internal\u001B[49m\u001B[38;5;241;43m.\u001B[39;49m\u001B[43m_convert_element_type\u001B[49m\u001B[43m(\u001B[49m\u001B[43mout\u001B[49m\u001B[43m,\u001B[49m\u001B[43m \u001B[49m\u001B[43mdtype\u001B[49m\u001B[43m,\u001B[49m\u001B[43m \u001B[49m\u001B[43mweak_type\u001B[49m\u001B[38;5;241;43m=\u001B[39;49m\u001B[43mweak_type\u001B[49m\u001B[43m)\u001B[49m\n\u001B[1;32m   2068\u001B[0m \u001B[38;5;28;01mif\u001B[39;00m ndmin \u001B[38;5;241m>\u001B[39m ndim(out_array):\n\u001B[1;32m   2069\u001B[0m   out_array \u001B[38;5;241m=\u001B[39m lax\u001B[38;5;241m.\u001B[39mexpand_dims(out_array, \u001B[38;5;28mrange\u001B[39m(ndmin \u001B[38;5;241m-\u001B[39m ndim(out_array)))\n",
      "File \u001B[0;32m/opt/homebrew/Caskroom/miniforge/base/envs/Py310/lib/python3.10/site-packages/jax/_src/lax/lax.py:567\u001B[0m, in \u001B[0;36m_convert_element_type\u001B[0;34m(operand, new_dtype, weak_type)\u001B[0m\n\u001B[1;32m    562\u001B[0m   \u001B[38;5;28;01mreturn\u001B[39;00m convert_element_type_p\u001B[38;5;241m.\u001B[39mbind(operand, new_dtype\u001B[38;5;241m=\u001B[39mnew_dtype,\n\u001B[1;32m    563\u001B[0m                                      weak_type\u001B[38;5;241m=\u001B[39m\u001B[38;5;28mbool\u001B[39m(weak_type))\n\u001B[1;32m    565\u001B[0m \u001B[38;5;66;03m# Don't canonicalize old_dtype because x64 context might cause\u001B[39;00m\n\u001B[1;32m    566\u001B[0m \u001B[38;5;66;03m# un-canonicalized operands to be passed in.\u001B[39;00m\n\u001B[0;32m--> 567\u001B[0m old_dtype \u001B[38;5;241m=\u001B[39m \u001B[43mdtypes\u001B[49m\u001B[38;5;241;43m.\u001B[39;49m\u001B[43mdtype\u001B[49m\u001B[43m(\u001B[49m\u001B[43moperand\u001B[49m\u001B[43m,\u001B[49m\u001B[43m \u001B[49m\u001B[43mcanonicalize\u001B[49m\u001B[38;5;241;43m=\u001B[39;49m\u001B[38;5;28;43;01mFalse\u001B[39;49;00m\u001B[43m)\u001B[49m\n\u001B[1;32m    568\u001B[0m old_weak_type \u001B[38;5;241m=\u001B[39m dtypes\u001B[38;5;241m.\u001B[39mis_weakly_typed(operand)\n\u001B[1;32m    569\u001B[0m \u001B[38;5;28;01mif\u001B[39;00m new_dtype \u001B[38;5;129;01mis\u001B[39;00m \u001B[38;5;28;01mNone\u001B[39;00m:\n",
      "File \u001B[0;32m/opt/homebrew/Caskroom/miniforge/base/envs/Py310/lib/python3.10/site-packages/jax/_src/dtypes.py:634\u001B[0m, in \u001B[0;36mdtype\u001B[0;34m(x, canonicalize)\u001B[0m\n\u001B[1;32m    632\u001B[0m   dt \u001B[38;5;241m=\u001B[39m x\u001B[38;5;241m.\u001B[39mdtype\n\u001B[1;32m    633\u001B[0m \u001B[38;5;28;01melse\u001B[39;00m:\n\u001B[0;32m--> 634\u001B[0m   dt \u001B[38;5;241m=\u001B[39m \u001B[43mnp\u001B[49m\u001B[38;5;241;43m.\u001B[39;49m\u001B[43mresult_type\u001B[49m\u001B[43m(\u001B[49m\u001B[43mx\u001B[49m\u001B[43m)\u001B[49m\n\u001B[1;32m    635\u001B[0m \u001B[38;5;28;01mif\u001B[39;00m dt \u001B[38;5;129;01mnot\u001B[39;00m \u001B[38;5;129;01min\u001B[39;00m _jax_dtype_set:\n\u001B[1;32m    636\u001B[0m   \u001B[38;5;28;01mraise\u001B[39;00m \u001B[38;5;167;01mTypeError\u001B[39;00m(\u001B[38;5;124mf\u001B[39m\u001B[38;5;124m\"\u001B[39m\u001B[38;5;124mValue \u001B[39m\u001B[38;5;124m'\u001B[39m\u001B[38;5;132;01m{\u001B[39;00mx\u001B[38;5;132;01m}\u001B[39;00m\u001B[38;5;124m'\u001B[39m\u001B[38;5;124m with dtype \u001B[39m\u001B[38;5;132;01m{\u001B[39;00mdt\u001B[38;5;132;01m}\u001B[39;00m\u001B[38;5;124m is not a valid JAX array \u001B[39m\u001B[38;5;124m\"\u001B[39m\n\u001B[1;32m    637\u001B[0m                   \u001B[38;5;124m\"\u001B[39m\u001B[38;5;124mtype. Only arrays of numeric types are supported by JAX.\u001B[39m\u001B[38;5;124m\"\u001B[39m)\n",
      "File \u001B[0;32m<__array_function__ internals>:180\u001B[0m, in \u001B[0;36mresult_type\u001B[0;34m(*args, **kwargs)\u001B[0m\n",
      "\u001B[0;31mTypeError\u001B[0m: Cannot interpret 'Array([[2.0088654],\n       [1.2037265]], dtype=float32)' as a data type"
     ]
    }
   ],
   "source": [
    "funnel_config.trainer.epochs = 200\n",
    "out_dict = train_dds(funnel_config)"
   ]
  },
  {
   "cell_type": "code",
   "execution_count": null,
   "outputs": [],
   "source": [
    "from utility_func import *\n",
    "plot_training_loss(out_dict[-1][\"elbo\"])\n"
   ],
   "metadata": {
    "collapsed": false,
    "ExecuteTime": {
     "start_time": "2023-04-27T02:16:11.804859Z",
     "end_time": "2023-04-27T02:16:11.897869Z"
    }
   }
  },
  {
   "cell_type": "code",
   "execution_count": null,
   "metadata": {
    "ExecuteTime": {
     "start_time": "2023-04-27T02:16:11.900767Z",
     "end_time": "2023-04-27T02:16:11.904462Z"
    }
   },
   "outputs": [],
   "source": [
    "out_dict[-1].keys()"
   ]
  },
  {
   "cell_type": "code",
   "execution_count": null,
   "metadata": {
    "ExecuteTime": {
     "start_time": "2023-04-27T02:16:11.905345Z",
     "end_time": "2023-04-27T02:16:11.909156Z"
    }
   },
   "outputs": [],
   "source": [
    "onp.mean(out_dict[-1][\"is_eval\"])"
   ]
  },
  {
   "cell_type": "code",
   "execution_count": null,
   "metadata": {
    "ExecuteTime": {
     "start_time": "2023-04-27T02:16:11.910949Z",
     "end_time": "2023-04-27T02:16:11.916619Z"
    }
   },
   "outputs": [],
   "source": [
    "onp.mean(out_dict[-1][\"pf_eval\"])"
   ]
  },
  {
   "cell_type": "code",
   "execution_count": null,
   "metadata": {
    "ExecuteTime": {
     "start_time": "2023-04-27T02:16:11.917079Z",
     "end_time": "2023-04-27T02:16:11.966942Z"
    }
   },
   "outputs": [],
   "source": [
    "out_dict[-1][\"pf_eval\"]"
   ]
  },
  {
   "cell_type": "code",
   "execution_count": null,
   "metadata": {
    "ExecuteTime": {
     "start_time": "2023-04-27T02:16:11.925387Z",
     "end_time": "2023-04-27T02:16:11.967049Z"
    }
   },
   "outputs": [],
   "source": [
    "funnel_config.model.reference_process_key"
   ]
  },
  {
   "cell_type": "code",
   "execution_count": null,
   "outputs": [],
   "source": [
    "print(out_dict[-1][\"aug\"].shape)"
   ],
   "metadata": {
    "collapsed": false,
    "ExecuteTime": {
     "start_time": "2023-04-27T02:16:11.930923Z",
     "end_time": "2023-04-27T02:16:11.967115Z"
    }
   }
  },
  {
   "cell_type": "code",
   "execution_count": null,
   "metadata": {
    "ExecuteTime": {
     "start_time": "2023-04-27T02:16:11.944061Z",
     "end_time": "2023-04-27T02:16:12.323892Z"
    }
   },
   "outputs": [],
   "source": [
    "import matplotlib.pyplot as plt\n",
    "\n",
    "#ode_targ = out_dict[-1][\"aug_ode\"][:, -1,:2]\n",
    "sde_targ = out_dict[-1][\"aug\"][:, -1,:2]\n",
    "\n",
    "#plt.plot(ode_targ[:, 0], abs(ode_targ[:, 1]), \".\", alpha=0.4)\n",
    "plt.plot(sde_targ[:, 0], abs(sde_targ[:, 1]), \".\", alpha=0.4)\n",
    "#print(onp.mean(sde_targ[:, 0]))"
   ]
  },
  {
   "cell_type": "code",
   "execution_count": null,
   "outputs": [],
   "source": [
    "import numpy as np\n",
    "data_x = []\n",
    "data_fx = []\n",
    "for sample in out_dict[-1][\"aug\"]:\n",
    "    x = sample[-1][:input_dim-1]\n",
    "    fx = abs(sample[-1][input_dim-1])\n",
    "    data_x.append(x)\n",
    "    data_fx.append(fx)\n",
    "\n",
    "m = np.argmax(data_fx)\n",
    "print(f\"weights: {data_x[m]}\")\n",
    "\n",
    "\n",
    "# Create a list of tuples containing x, y, and z values\n",
    "combined_data = zip(data_x, data_fx)\n",
    "\n",
    "# Sort the combined data based on the z values in descending order\n",
    "sorted_data = sorted(combined_data, key=lambda t: t[1], reverse=True)\n",
    "\n",
    "# Unzip the sorted data back into separate x, y, and z lists\n",
    "data_x_sorted, data_fx_sorted = zip(*sorted_data)\n",
    "\n",
    "best = np.array(list(zip(data_x_sorted, data_fx_sorted)))[:100]\n",
    "# avg = np.mean(best, axis=0)\n",
    "# v, w = avg\n",
    "# print(np.sin(3*np.pi*v) + (v - 1)**2 * (1+np.sin(3*np.pi*w)**2) + (w-1)**2 * (1 + np.sin(2*np.pi*w)**2))\n",
    "# print(avg)\n",
    "#print(best)\n",
    "# for v,w in best:\n",
    "#     v = np.sin(3*np.pi*v) + (v - 1)**2 * (1+np.sin(3*np.pi*w)**2) + (w-1)**2 * (1 + np.sin(2*np.pi*w)**2)\n",
    "#     print(v)\n",
    "from experimental.xor_t import xor_task\n",
    "task = xor_task()\n",
    "b = 1\n",
    "w = None\n",
    "print(len(data_x))\n",
    "for weights in data_x:\n",
    "#for weights, _ in best:\n",
    "    l = task.get_loss(weights)\n",
    "    #print(l)\n",
    "    if l < b:\n",
    "        b = l\n",
    "        w = weights\n",
    "\n",
    "print(b, w)\n",
    "\n"
   ],
   "metadata": {
    "collapsed": false,
    "ExecuteTime": {
     "start_time": "2023-04-27T02:16:12.326052Z",
     "end_time": "2023-04-27T02:16:24.838047Z"
    }
   }
  },
  {
   "cell_type": "code",
   "execution_count": null,
   "outputs": [],
   "source": [
    "from visualisation import *\n",
    "\n",
    "heat_2d(out_dict, save_name=save_name, sde=True)"
   ],
   "metadata": {
    "collapsed": false,
    "ExecuteTime": {
     "start_time": "2023-04-27T02:16:24.838719Z",
     "end_time": "2023-04-27T02:16:29.164931Z"
    }
   }
  },
  {
   "cell_type": "code",
   "execution_count": null,
   "outputs": [],
   "source": [
    "import numpy as np\n",
    "import matplotlib.pyplot as plt\n",
    "import seaborn as sns\n",
    "\n",
    "data = []\n",
    "for sample in out_dict[-1][\"aug\"]:\n",
    "    s = sample[-1][0]\n",
    "    data.append(s)\n",
    "\n",
    "# Compute the histogram values\n",
    "hist, bin_edges = np.histogram(data, bins=50)\n",
    "\n",
    "# Compute the bin centers\n",
    "bin_centers = (bin_edges[:-1] + bin_edges[1:]) / 2\n",
    "\n",
    "# Create a line plot using Seaborn\n",
    "sns.lineplot(x=bin_centers, y=hist)\n",
    "\n",
    "# Set the x and y axis labels\n",
    "plt.xlabel('Value')\n",
    "plt.ylabel('Frequency')\n",
    "\n",
    "# Show the plot\n",
    "plt.show()"
   ],
   "metadata": {
    "collapsed": false,
    "ExecuteTime": {
     "start_time": "2023-04-27T02:16:29.173738Z",
     "end_time": "2023-04-27T02:16:31.344286Z"
    }
   }
  }
 ],
 "metadata": {
  "kernelspec": {
   "display_name": "PyCharm (denoising_diffusion_samplers)",
   "language": "python",
   "name": "pycharm-c47a5953"
  },
  "language_info": {
   "codemirror_mode": {
    "name": "ipython",
    "version": 3
   },
   "file_extension": ".py",
   "mimetype": "text/x-python",
   "name": "python",
   "nbconvert_exporter": "python",
   "pygments_lexer": "ipython3",
   "version": "3.10.9"
  }
 },
 "nbformat": 4,
 "nbformat_minor": 4
}
