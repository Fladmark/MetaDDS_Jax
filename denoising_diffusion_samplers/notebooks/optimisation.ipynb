{
 "cells": [
  {
   "cell_type": "code",
   "execution_count": 1,
   "metadata": {
    "ExecuteTime": {
     "start_time": "2023-04-28T23:04:34.019893Z",
     "end_time": "2023-04-28T23:04:48.377919Z"
    }
   },
   "outputs": [
    {
     "name": "stdout",
     "output_type": "stream",
     "text": [
      "0.3076998\n",
      "0.2259795\n",
      "0.21564764\n",
      "0.21108398\n",
      "0.2066853\n",
      "0.20327038\n",
      "0.19592771\n",
      "0.19513726\n",
      "0.19513726\n"
     ]
    }
   ],
   "source": [
    "from dds.configs.config import set_task, get_config\n",
    "from dds.train_dds import train_dds\n",
    "\n",
    "import numpy as onp"
   ]
  },
  {
   "cell_type": "code",
   "execution_count": 2,
   "metadata": {
    "ExecuteTime": {
     "start_time": "2023-04-28T23:04:48.384835Z",
     "end_time": "2023-04-28T23:04:48.412189Z"
    }
   },
   "outputs": [],
   "source": [
    "funnel_config = get_config()\n",
    "\n",
    "# Time and step settings (Need to be done before calling set_task)\n",
    "funnel_config.model.tfinal = 6.4\n",
    "funnel_config.model.dt = 0.05 #0.05\n",
    "\n",
    "if funnel_config.model.reference_process_key == \"oudstl\":\n",
    "    funnel_config.model.step_scheme_key = \"cos_sq\"\n",
    "\n",
    "from dds.targets.toy_targets import get_attr\n",
    "### SET TASK\n",
    "task = \"carillo\"\n",
    "div, e, other_dim = get_attr()\n",
    "div = str(div).replace(\".\", \"\")\n",
    "e = str(e).replace(\".\", \"\")\n",
    "\n",
    "save_name = f\"{task}_s{div}_plus{e}_od{other_dim}\"\n",
    "\n",
    "\n",
    "funnel_config = set_task(funnel_config, task)\n",
    "funnel_config.model.reference_process_key = \"oudstl\"\n",
    "\n",
    "# funnel_config.model.reference_process_key = \"pisstl\"\n",
    "# funnel_config.model.step_scheme_key = \"uniform\"\n",
    "\n",
    "# exp_dec\n",
    "# cos_sq\n",
    "# uniform\n",
    "# last_small\n",
    "# linear_dds\n",
    "# linear\n",
    "# uniform_dds\n",
    "\n",
    "if funnel_config.model.reference_process_key == \"oudstl\":\n",
    "    funnel_config.model.step_scheme_key = \"cos_sq\"\n",
    "    \n",
    "    # Opt setting for funnel\n",
    "    funnel_config.model.sigma = 1.075\n",
    "    funnel_config.model.alpha = 0.6875\n",
    "    funnel_config.model.m = 1.0\n",
    "        \n",
    "    # Path opt settings    \n",
    "    funnel_config.model.exp_dds = False\n",
    "\n",
    "\n",
    "# funnel_config.model.stl = False\n",
    "# funnel_config.model.detach_stl_drift = False\n",
    "\n",
    "funnel_config.model.stl = True\n",
    "funnel_config.model.detach_stl_drift = True\n",
    "\n",
    "funnel_config.trainer.notebook = True\n",
    "funnel_config.trainer.epochs = 11000\n",
    "# Opt settings we use\n",
    "# funnel_config.trainer.learning_rate = 0.0001\n",
    "funnel_config.trainer.learning_rate = 5 * 10**(-3)\n",
    "funnel_config.trainer.lr_sch_base_dec = 0.95 # For funnel"
   ]
  },
  {
   "cell_type": "code",
   "execution_count": 3,
   "metadata": {
    "ExecuteTime": {
     "start_time": "2023-04-28T23:04:48.408232Z",
     "end_time": "2023-04-28T23:04:48.412651Z"
    }
   },
   "outputs": [
    {
     "data": {
      "text/plain": "'oudstl'"
     },
     "execution_count": 3,
     "metadata": {},
     "output_type": "execute_result"
    }
   ],
   "source": [
    "funnel_config.model.reference_process_key "
   ]
  },
  {
   "cell_type": "code",
   "execution_count": 4,
   "metadata": {
    "ExecuteTime": {
     "start_time": "2023-04-28T23:04:48.413541Z",
     "end_time": "2023-04-28T23:04:48.415896Z"
    }
   },
   "outputs": [],
   "source": [
    "input_dim = funnel_config.model.input_dim"
   ]
  },
  {
   "cell_type": "code",
   "execution_count": 5,
   "metadata": {
    "ExecuteTime": {
     "start_time": "2023-04-28T23:04:48.416199Z",
     "end_time": "2023-04-28T23:04:48.419160Z"
    }
   },
   "outputs": [
    {
     "data": {
      "text/plain": "'cos_sq'"
     },
     "execution_count": 5,
     "metadata": {},
     "output_type": "execute_result"
    }
   ],
   "source": [
    "funnel_config.model.step_scheme_key"
   ]
  },
  {
   "cell_type": "code",
   "execution_count": 6,
   "metadata": {
    "ExecuteTime": {
     "start_time": "2023-04-28T23:04:48.420768Z",
     "end_time": "2023-04-28T23:04:48.423272Z"
    }
   },
   "outputs": [
    {
     "data": {
      "text/plain": "(128,)"
     },
     "execution_count": 6,
     "metadata": {},
     "output_type": "execute_result"
    }
   ],
   "source": [
    "funnel_config.model.ts.shape"
   ]
  },
  {
   "cell_type": "code",
   "execution_count": 7,
   "metadata": {
    "ExecuteTime": {
     "start_time": "2023-04-28T19:33:52.095827Z",
     "end_time": "2023-04-28T19:35:35.168119Z"
    }
   },
   "outputs": [
    {
     "name": "stdout",
     "output_type": "stream",
     "text": [
      "Best training loss: [0.00011349]\n"
     ]
    },
    {
     "data": {
      "text/plain": "<Figure size 640x480 with 1 Axes>",
      "image/png": "[encoded data removed]"
     },
     "metadata": {},
     "output_type": "display_data"
    },
    {
     "ename": "FileNotFoundError",
     "evalue": "[Errno 2] No such file or directory: 'notebooks/div_files/training_loss.pickle'",
     "output_type": "error",
     "traceback": [
      "\u001B[0;31m---------------------------------------------------------------------------\u001B[0m",
      "\u001B[0;31mFileNotFoundError\u001B[0m                         Traceback (most recent call last)",
      "Cell \u001B[0;32mIn[7], line 2\u001B[0m\n\u001B[1;32m      1\u001B[0m funnel_config\u001B[38;5;241m.\u001B[39mtrainer\u001B[38;5;241m.\u001B[39mepochs \u001B[38;5;241m=\u001B[39m \u001B[38;5;241m50\u001B[39m\n\u001B[0;32m----> 2\u001B[0m out_dict \u001B[38;5;241m=\u001B[39m \u001B[43mtrain_dds\u001B[49m\u001B[43m(\u001B[49m\u001B[43mfunnel_config\u001B[49m\u001B[43m)\u001B[49m\n",
      "File \u001B[0;32m~/Desktop/Masters/MetaDDS_Jax/denoising_diffusion_samplers/dds/train_dds.py:456\u001B[0m, in \u001B[0;36mtrain_dds\u001B[0;34m(config)\u001B[0m\n\u001B[1;32m    452\u001B[0m     \u001B[38;5;28;01melse\u001B[39;00m:\n\u001B[1;32m    453\u001B[0m         utility_func\u001B[38;5;241m.\u001B[39mplot_training_loss(accumulated_training_loss)\n\u001B[0;32m--> 456\u001B[0m     \u001B[43mutility_func\u001B[49m\u001B[38;5;241;43m.\u001B[39;49m\u001B[43msave_array_to_pickle\u001B[49m\u001B[43m(\u001B[49m\u001B[43maccumulated_training_loss\u001B[49m\u001B[43m,\u001B[49m\u001B[43m \u001B[49m\u001B[38;5;124;43m\"\u001B[39;49m\u001B[38;5;124;43mnotebooks/div_files/training_loss.pickle\u001B[39;49m\u001B[38;5;124;43m\"\u001B[39;49m\u001B[43m)\u001B[49m\n\u001B[1;32m    461\u001B[0m \u001B[38;5;28;01mif\u001B[39;00m config\u001B[38;5;241m.\u001B[39mtrainer\u001B[38;5;241m.\u001B[39mtimer:\n\u001B[1;32m    462\u001B[0m   \u001B[38;5;28;01mdef\u001B[39;00m \u001B[38;5;21mfunc\u001B[39m():\n",
      "File \u001B[0;32m~/Desktop/Masters/MetaDDS_Jax/denoising_diffusion_samplers/utility_func.py:9\u001B[0m, in \u001B[0;36msave_array_to_pickle\u001B[0;34m(array, file_name)\u001B[0m\n\u001B[1;32m      8\u001B[0m \u001B[38;5;28;01mdef\u001B[39;00m \u001B[38;5;21msave_array_to_pickle\u001B[39m(array, file_name):\n\u001B[0;32m----> 9\u001B[0m     \u001B[38;5;28;01mwith\u001B[39;00m \u001B[38;5;28;43mopen\u001B[39;49m\u001B[43m(\u001B[49m\u001B[43mfile_name\u001B[49m\u001B[43m,\u001B[49m\u001B[43m \u001B[49m\u001B[38;5;124;43m'\u001B[39;49m\u001B[38;5;124;43mwb\u001B[39;49m\u001B[38;5;124;43m'\u001B[39;49m\u001B[43m)\u001B[49m \u001B[38;5;28;01mas\u001B[39;00m file:\n\u001B[1;32m     10\u001B[0m         pickle\u001B[38;5;241m.\u001B[39mdump(array, file)\n",
      "\u001B[0;31mFileNotFoundError\u001B[0m: [Errno 2] No such file or directory: 'notebooks/div_files/training_loss.pickle'"
     ]
    }
   ],
   "source": [
    "funnel_config.trainer.epochs = 50\n",
    "out_dict = train_dds(funnel_config)"
   ]
  },
  {
   "cell_type": "code",
   "execution_count": null,
   "outputs": [],
   "source": [
    "from utility_func import *\n",
    "plot_training_loss(out_dict[-1][\"elbo\"])\n",
    "print(out_dict[-1][\"elbo\"][-1])\n"
   ],
   "metadata": {
    "collapsed": false,
    "ExecuteTime": {
     "start_time": "2023-04-28T22:52:13.191940Z",
     "end_time": "2023-04-28T22:52:13.298948Z"
    }
   }
  },
  {
   "cell_type": "code",
   "execution_count": null,
   "metadata": {
    "ExecuteTime": {
     "start_time": "2023-04-28T19:35:35.266445Z",
     "end_time": "2023-04-28T19:35:35.269606Z"
    }
   },
   "outputs": [],
   "source": [
    "out_dict[-1].keys()"
   ]
  },
  {
   "cell_type": "code",
   "execution_count": null,
   "metadata": {
    "ExecuteTime": {
     "start_time": "2023-04-28T19:35:35.272977Z",
     "end_time": "2023-04-28T19:35:35.276009Z"
    }
   },
   "outputs": [],
   "source": [
    "onp.mean(out_dict[-1][\"is_eval\"])"
   ]
  },
  {
   "cell_type": "code",
   "execution_count": null,
   "metadata": {
    "ExecuteTime": {
     "start_time": "2023-04-28T19:35:35.276293Z",
     "end_time": "2023-04-28T19:35:35.281340Z"
    }
   },
   "outputs": [],
   "source": [
    "onp.mean(out_dict[-1][\"pf_eval\"])"
   ]
  },
  {
   "cell_type": "code",
   "execution_count": null,
   "metadata": {
    "ExecuteTime": {
     "start_time": "2023-04-28T19:35:35.280591Z",
     "end_time": "2023-04-28T19:35:35.357691Z"
    }
   },
   "outputs": [],
   "source": [
    "out_dict[-1][\"pf_eval\"]"
   ]
  },
  {
   "cell_type": "code",
   "execution_count": null,
   "metadata": {
    "ExecuteTime": {
     "start_time": "2023-04-28T19:35:35.285799Z",
     "end_time": "2023-04-28T19:35:35.358025Z"
    }
   },
   "outputs": [],
   "source": [
    "funnel_config.model.reference_process_key"
   ]
  },
  {
   "cell_type": "code",
   "execution_count": null,
   "outputs": [],
   "source": [
    "print(out_dict[-1][\"aug\"].shape)"
   ],
   "metadata": {
    "collapsed": false,
    "ExecuteTime": {
     "start_time": "2023-04-28T19:35:35.290022Z",
     "end_time": "2023-04-28T19:35:35.358160Z"
    }
   }
  },
  {
   "cell_type": "code",
   "execution_count": null,
   "metadata": {
    "ExecuteTime": {
     "start_time": "2023-04-28T19:35:35.297105Z",
     "end_time": "2023-04-28T19:35:35.660510Z"
    }
   },
   "outputs": [],
   "source": [
    "import matplotlib.pyplot as plt\n",
    "\n",
    "#ode_targ = out_dict[-1][\"aug_ode\"][:, -1,:2]\n",
    "sde_targ = out_dict[-1][\"aug\"][:, -1,:2]\n",
    "\n",
    "#plt.plot(ode_targ[:, 0], abs(ode_targ[:, 1]), \".\", alpha=0.4)\n",
    "plt.plot(sde_targ[:, 0], abs(sde_targ[:, 1]), \".\", alpha=0.4)\n",
    "#print(onp.mean(sde_targ[:, 0]))"
   ]
  },
  {
   "cell_type": "code",
   "execution_count": null,
   "outputs": [],
   "source": [
    "import numpy as np\n",
    "data_x = []\n",
    "data_fx = []\n",
    "for sample in out_dict[-1][\"aug\"]:\n",
    "    x = sample[-1][:input_dim-1]\n",
    "    fx = abs(sample[-1][input_dim-1])\n",
    "    data_x.append(x)\n",
    "    data_fx.append(fx)\n",
    "\n",
    "m = np.argmax(data_fx)\n",
    "print(f\"weights: {data_x[m]}\")\n",
    "\n",
    "\n",
    "# Create a list of tuples containing x, y, and z values\n",
    "combined_data = zip(data_x, data_fx)\n",
    "\n",
    "# Sort the combined data based on the z values in descending order\n",
    "sorted_data = sorted(combined_data, key=lambda t: t[1], reverse=True)\n",
    "\n",
    "# Unzip the sorted data back into separate x, y, and z lists\n",
    "data_x_sorted, data_fx_sorted = zip(*sorted_data)\n",
    "\n",
    "best = np.array(list(zip(data_x_sorted, data_fx_sorted)))[:100]\n",
    "# avg = np.mean(best, axis=0)\n",
    "# v, w = avg\n",
    "# print(np.sin(3*np.pi*v) + (v - 1)**2 * (1+np.sin(3*np.pi*w)**2) + (w-1)**2 * (1 + np.sin(2*np.pi*w)**2))\n",
    "# print(avg)\n",
    "#print(best)\n",
    "# for v,w in best:\n",
    "#     v = np.sin(3*np.pi*v) + (v - 1)**2 * (1+np.sin(3*np.pi*w)**2) + (w-1)**2 * (1 + np.sin(2*np.pi*w)**2)\n",
    "#     print(v)\n",
    "from experimental.xor_t import xor_task\n",
    "task = xor_task()\n",
    "b = 1\n",
    "w = None\n",
    "print(len(data_x))\n",
    "for weights in data_x:\n",
    "#for weights, _ in best:\n",
    "    l = task.get_loss(weights)\n",
    "    #print(l)\n",
    "    if l < b:\n",
    "        b = l\n",
    "        w = weights\n",
    "\n",
    "print(b, w)\n",
    "\n"
   ],
   "metadata": {
    "collapsed": false,
    "ExecuteTime": {
     "start_time": "2023-04-27T02:16:12.326052Z",
     "end_time": "2023-04-27T02:16:24.838047Z"
    }
   }
  },
  {
   "cell_type": "code",
   "execution_count": null,
   "outputs": [],
   "source": [
    "from visualisation import *\n",
    "\n",
    "heat_2d(out_dict, save_name=save_name, sde=True)"
   ],
   "metadata": {
    "collapsed": false,
    "ExecuteTime": {
     "start_time": "2023-04-27T02:16:24.838719Z",
     "end_time": "2023-04-27T02:16:29.164931Z"
    }
   }
  },
  {
   "cell_type": "code",
   "execution_count": null,
   "outputs": [],
   "source": [
    "import numpy as np\n",
    "import matplotlib.pyplot as plt\n",
    "import seaborn as sns\n",
    "\n",
    "data = []\n",
    "for sample in out_dict[-1][\"aug\"]:\n",
    "    s = sample[-1][0]\n",
    "    data.append(s)\n",
    "\n",
    "# Compute the histogram values\n",
    "hist, bin_edges = np.histogram(data, bins=50)\n",
    "\n",
    "# Compute the bin centers\n",
    "bin_centers = (bin_edges[:-1] + bin_edges[1:]) / 2\n",
    "\n",
    "# Create a line plot using Seaborn\n",
    "sns.lineplot(x=bin_centers, y=hist)\n",
    "\n",
    "# Set the x and y axis labels\n",
    "plt.xlabel('Value')\n",
    "plt.ylabel('Frequency')\n",
    "\n",
    "# Show the plot\n",
    "plt.show()"
   ],
   "metadata": {
    "collapsed": false,
    "ExecuteTime": {
     "start_time": "2023-04-27T02:16:29.173738Z",
     "end_time": "2023-04-27T02:16:31.344286Z"
    }
   }
  }
 ],
 "metadata": {
  "kernelspec": {
   "display_name": "PyCharm (denoising_diffusion_samplers)",
   "language": "python",
   "name": "pycharm-c47a5953"
  },
  "language_info": {
   "codemirror_mode": {
    "name": "ipython",
    "version": 3
   },
   "file_extension": ".py",
   "mimetype": "text/x-python",
   "name": "python",
   "nbconvert_exporter": "python",
   "pygments_lexer": "ipython3",
   "version": "3.10.9"
  }
 },
 "nbformat": 4,
 "nbformat_minor": 4
}
