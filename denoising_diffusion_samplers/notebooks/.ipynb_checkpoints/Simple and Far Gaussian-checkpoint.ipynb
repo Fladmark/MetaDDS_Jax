{
 "cells": [
  {
   "cell_type": "code",
   "execution_count": 1,
   "metadata": {},
   "outputs": [],
   "source": [
    "from dds.configs.config import set_task, get_config\n",
    "from dds.train_dds import train_dds\n",
    "\n",
    "import numpy as onp"
   ]
  },
  {
   "cell_type": "code",
   "execution_count": 2,
   "metadata": {},
   "outputs": [
    {
     "name": "stdout",
     "output_type": "stream",
     "text": [
      "0.25 0.5 False\n"
     ]
    }
   ],
   "source": [
    "funnel_config = get_config()\n",
    "\n",
    "# Time and step settings (Need to be done before calling set_task)\n",
    "funnel_config.model.tfinal = 6.4\n",
    "funnel_config.model.dt = 0.05\n",
    "if funnel_config.model.reference_process_key == \"oudstl\":\n",
    "    funnel_config.model.step_scheme_key = \"cos_sq\"\n",
    "\n",
    "funnel_config = set_task(funnel_config, \"simple_gaussian\")\n",
    "funnel_config.model.reference_process_key = \"oudstl\"\n",
    "\n",
    "print(funnel_config.model.sigma, funnel_config.model.alpha, funnel_config.model.exp_dds)\n",
    "if funnel_config.model.reference_process_key == \"oudstl\":\n",
    "    funnel_config.model.step_scheme_key = \"cos_sq\"\n",
    "    \n",
    "    # Opt setting for funnel\n",
    "    funnel_config.model.sigma = 1.075\n",
    "    funnel_config.model.alpha = 0.6875\n",
    "    funnel_config.model.m = 1.0\n",
    "        \n",
    "    # Path opt settings    \n",
    "    funnel_config.model.exp_dds = True\n",
    "\n",
    "\n",
    "funnel_config.model.stl = False\n",
    "funnel_config.model.detach_stl_drift = False\n",
    "\n",
    "funnel_config.trainer.notebook = True\n",
    "funnel_config.trainer.epochs = 11000\n",
    "# Opt settings we use\n",
    "# funnel_config.trainer.learning_rate = 0.0001\n",
    "funnel_config.trainer.learning_rate = 5 * 10**(-3)\n",
    "funnel_config.trainer.lr_sch_base_dec = 0.99 # For funnel"
   ]
  },
  {
   "cell_type": "code",
   "execution_count": 3,
   "metadata": {},
   "outputs": [
    {
     "data": {
      "text/plain": [
       "'oudstl'"
      ]
     },
     "execution_count": 3,
     "metadata": {},
     "output_type": "execute_result"
    }
   ],
   "source": [
    "funnel_config.model.reference_process_key "
   ]
  },
  {
   "cell_type": "code",
   "execution_count": 4,
   "metadata": {},
   "outputs": [
    {
     "data": {
      "text/plain": [
       "2"
      ]
     },
     "execution_count": 4,
     "metadata": {},
     "output_type": "execute_result"
    }
   ],
   "source": [
    "funnel_config.model.input_dim"
   ]
  },
  {
   "cell_type": "code",
   "execution_count": 5,
   "metadata": {},
   "outputs": [
    {
     "data": {
      "text/plain": [
       "'cos_sq'"
      ]
     },
     "execution_count": 5,
     "metadata": {},
     "output_type": "execute_result"
    }
   ],
   "source": [
    "funnel_config.model.step_scheme_key"
   ]
  },
  {
   "cell_type": "code",
   "execution_count": 6,
   "metadata": {},
   "outputs": [
    {
     "data": {
      "text/plain": [
       "(128,)"
      ]
     },
     "execution_count": 6,
     "metadata": {},
     "output_type": "execute_result"
    }
   ],
   "source": [
    "funnel_config.model.ts.shape"
   ]
  },
  {
   "cell_type": "code",
   "execution_count": null,
   "metadata": {
    "pycharm": {
     "is_executing": true
    }
   },
   "outputs": [
    {
     "name": "stdout",
     "output_type": "stream",
     "text": [
      "('epoch: %s %s  loss: %s', 0, 'TRAIN', 0.010696399956941605)\n",
      "('epoch: %s %s  loss: %s', 1, 'TRAIN', 0.010522688739001751)\n",
      "('epoch: %s %s  loss: %s', 2, 'TRAIN', 0.00171003513969481)\n",
      "('epoch: %s %s  loss: %s', 3, 'TRAIN', 0.002938315039500594)\n",
      "('epoch: %s %s  loss: %s', 4, 'TRAIN', 0.008995987474918365)\n",
      "('epoch: %s %s  loss: %s', 5, 'TRAIN', 0.004957933910191059)\n",
      "('epoch: %s %s  loss: %s', 6, 'TRAIN', -0.005695538595318794)\n",
      "('epoch: %s %s  loss: %s', 7, 'TRAIN', 0.0034277373924851418)\n",
      "('epoch: %s %s  loss: %s', 8, 'TRAIN', -0.0018368855817243457)\n",
      "('epoch: %s %s  loss: %s', 9, 'TRAIN', -0.001958225155249238)\n",
      "('epoch: %s %s  loss: %s', 10, 'TRAIN', -0.0012348053278401494)\n",
      "('epoch: %s %s  loss: %s', 11, 'TRAIN', 0.002228970406576991)\n",
      "('epoch: %s %s  loss: %s', 12, 'TRAIN', -0.0024113627150654793)\n",
      "('epoch: %s %s  loss: %s', 13, 'TRAIN', 0.002425252692773938)\n",
      "('epoch: %s %s  loss: %s', 14, 'TRAIN', 0.005676840897649527)\n",
      "('epoch: %s %s  loss: %s', 15, 'TRAIN', -0.0011315284064039588)\n",
      "('epoch: %s %s  loss: %s', 16, 'TRAIN', -0.0012015681713819504)\n",
      "('epoch: %s %s  loss: %s', 17, 'TRAIN', 0.0026061590760946274)\n",
      "('epoch: %s %s  loss: %s', 18, 'TRAIN', -0.0015706901904195547)\n",
      "('epoch: %s %s  loss: %s', 19, 'TRAIN', 0.00012672902084887028)\n",
      "('epoch: %s %s  loss: %s', 20, 'TRAIN', -0.0024208412505686283)\n"
     ]
    }
   ],
   "source": [
    "funnel_config.trainer.epochs =  100 #1000\n",
    "out_dict = train_dds(funnel_config)"
   ]
  },
  {
   "cell_type": "code",
   "execution_count": null,
   "metadata": {
    "pycharm": {
     "is_executing": true
    }
   },
   "outputs": [],
   "source": [
    "out_dict[-1].keys()"
   ]
  },
  {
   "cell_type": "code",
   "execution_count": null,
   "metadata": {
    "pycharm": {
     "is_executing": true
    }
   },
   "outputs": [],
   "source": [
    "onp.mean(out_dict[-1][\"is_eval\"])"
   ]
  },
  {
   "cell_type": "code",
   "execution_count": null,
   "metadata": {
    "pycharm": {
     "is_executing": true
    }
   },
   "outputs": [],
   "source": [
    "onp.mean(out_dict[-1][\"pf_eval\"])"
   ]
  },
  {
   "cell_type": "code",
   "execution_count": null,
   "metadata": {
    "pycharm": {
     "is_executing": true
    }
   },
   "outputs": [],
   "source": [
    "out_dict[-1][\"is\"]"
   ]
  },
  {
   "cell_type": "code",
   "execution_count": null,
   "metadata": {
    "pycharm": {
     "is_executing": true
    }
   },
   "outputs": [],
   "source": [
    "import matplotlib.pyplot as plt\n",
    "\n",
    "ode_targ = out_dict[-1][\"aug_ode\"][:, -1,:2]\n",
    "sde_targ = out_dict[-1][\"aug\"][:, -1,:2]\n",
    "\n",
    "plt.plot(ode_targ[:, 0], ode_targ[:, 1], \".\")\n",
    "plt.plot(sde_targ[:, 0], sde_targ[:, 1], \".\")"
   ]
  },
  {
   "cell_type": "code",
   "execution_count": null,
   "metadata": {
    "pycharm": {
     "is_executing": true
    }
   },
   "outputs": [],
   "source": [
    "funnel_config.model.source(out_dict[-1][\"aug_ode\"][:, 0,:2])"
   ]
  },
  {
   "cell_type": "code",
   "execution_count": null,
   "metadata": {
    "pycharm": {
     "is_executing": true
    }
   },
   "outputs": [],
   "source": [
    " funnel_config.model.sigma"
   ]
  },
  {
   "cell_type": "code",
   "execution_count": null,
   "metadata": {
    "pycharm": {
     "is_executing": true
    }
   },
   "outputs": [],
   "source": [
    "import distrax\n",
    "import numpy as np\n",
    "\n",
    "equi_normal2 = distrax.MultivariateNormalDiag( np.zeros(2) , funnel_config.model.sigma * np.ones(2))\n",
    "\n",
    "equi_normal2.log_prob(out_dict[-1][\"aug_ode\"][:, 0,:2])"
   ]
  },
  {
   "cell_type": "code",
   "execution_count": null,
   "metadata": {
    "pycharm": {
     "is_executing": true
    }
   },
   "outputs": [],
   "source": [
    "funnel_config.model.target"
   ]
  },
  {
   "cell_type": "code",
   "execution_count": null,
   "metadata": {
    "pycharm": {
     "is_executing": true
    }
   },
   "outputs": [],
   "source": [
    "cake = funnel_config.trainer.lnz_pf_estimator(\n",
    "    out_dict[-1][\"aug_ode\"], funnel_config.model.source, funnel_config.model.target, debug=False)"
   ]
  },
  {
   "cell_type": "code",
   "execution_count": null,
   "metadata": {
    "pycharm": {
     "is_executing": true
    }
   },
   "outputs": [],
   "source": [
    "cake"
   ]
  },
  {
   "cell_type": "code",
   "execution_count": null,
   "metadata": {
    "pycharm": {
     "is_executing": true
    }
   },
   "outputs": [],
   "source": [
    "import matplotlib.pyplot as plt\n",
    "\n",
    "timestep = 2\n",
    "\n",
    "ode_targ = out_dict[-1][\"aug_ode\"][:, timestep,:2]\n",
    "sde_targ = out_dict[-1][\"aug\"][:, timestep,:2]\n",
    "\n",
    "plt.plot(ode_targ[:, 0], ode_targ[:, 1], \".\")\n",
    "plt.plot(sde_targ[:, 0], sde_targ[:, 1], \".\")"
   ]
  },
  {
   "cell_type": "code",
   "execution_count": null,
   "metadata": {
    "pycharm": {
     "is_executing": true
    }
   },
   "outputs": [],
   "source": [
    "out_dict[-1][\"aug\"][:, -1,:2]"
   ]
  },
  {
   "cell_type": "code",
   "execution_count": null,
   "metadata": {
    "pycharm": {
     "is_executing": true
    }
   },
   "outputs": [],
   "source": [
    "funnel_config.model.step_scheme_key "
   ]
  },
  {
   "cell_type": "code",
   "execution_count": null,
   "metadata": {
    "pycharm": {
     "is_executing": true
    }
   },
   "outputs": [],
   "source": [
    "funnel_config"
   ]
  },
  {
   "cell_type": "code",
   "execution_count": null,
   "metadata": {
    "pycharm": {
     "is_executing": true
    }
   },
   "outputs": [],
   "source": []
  }
 ],
 "metadata": {
  "kernelspec": {
   "display_name": "PyCharm (denoising_diffusion_samplers)",
   "language": "python",
   "name": "pycharm-c47a5953"
  },
  "language_info": {
   "codemirror_mode": {
    "name": "ipython",
    "version": 3
   },
   "file_extension": ".py",
   "mimetype": "text/x-python",
   "name": "python",
   "nbconvert_exporter": "python",
   "pygments_lexer": "ipython3",
   "version": "3.10.9"
  }
 },
 "nbformat": 4,
 "nbformat_minor": 4
}
